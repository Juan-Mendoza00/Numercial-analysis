{
 "cells": [
  {
   "cell_type": "code",
   "execution_count": 2,
   "metadata": {},
   "outputs": [],
   "source": [
    "import numpy as np \n",
    "import pandas as pd\n",
    "from sympy import *\n",
    "import matplotlib.pyplot as plt\n",
    "import seaborn as sns "
   ]
  },
  {
   "cell_type": "markdown",
   "metadata": {},
   "source": [
    "## The Newton-Raphson method for numerical Analysis\n",
    "\n",
    "The NR method is used to calculate an aproximation of the roots of function.\n",
    "\n",
    "Newton-Raphson iterative method $\\rightarrow x_{i+1} = x_{i} - \\frac{f(x_{i})}{f'(x_{i})}$\n",
    "\n",
    "Requiring an **initial value**: $x_{0}$"
   ]
  },
  {
   "cell_type": "code",
   "execution_count": 3,
   "metadata": {},
   "outputs": [
    {
     "name": "stdout",
     "output_type": "stream",
     "text": [
      "Initial value: x_0 = 1\n",
      "Iteration 1  |  x_1 = -1.3922111911773332\n",
      "Iteration 2  |  x_2 = -0.8350875293671394\n",
      "Iteration 3  |  x_3 = -0.7098340945745987\n",
      "Iteration 4  |  x_4 = -0.7034834042362847\n",
      "Iteration 5  |  x_5 = -0.703467422599462\n",
      "Iteration 6  |  x_6 = -0.7034674224983917\n",
      "Iteration 7  |  x_7 = -0.7034674224983917\n",
      "Iteration 8  |  x_8 = -0.7034674224983917\n",
      "Iteration 9  |  x_9 = -0.7034674224983917\n",
      "Iteration 10  |  x_10 = -0.7034674224983917\n"
     ]
    },
    {
     "data": {
      "text/plain": [
       "-0.7034674224983917"
      ]
     },
     "execution_count": 3,
     "metadata": {},
     "output_type": "execute_result"
    }
   ],
   "source": [
    "# Symbol instance for the variable\n",
    "x = Symbol('x')\n",
    "\n",
    "# A string as an input to convert to a mathematical expression\n",
    "func_str = 'exp(x) - x**2'\n",
    "\n",
    "# The input function is converted to a SymPy expression\n",
    "func = sympify(func_str).expand()\n",
    "\n",
    "# Converted to a function\n",
    "f = lambdify(x, func)\n",
    "\n",
    "# compute the first derivate\n",
    "df = lambdify(x, func.diff(x))\n",
    "\n",
    "def Newton_Raphson(x_i, i):\n",
    "    \"\"\"## Newton Raphson Method\n",
    "    Using the formula for Newton-Rapshon recursion to compute \n",
    "    the roots of a real-valued continuous and differentiable \n",
    "    function, given an initial value.\n",
    "\n",
    "    ### Parametters\n",
    "    - x_i: Short for 'x initial'. The initial value for the recursion\n",
    "    to start with.\n",
    "\n",
    "    - i: The number of iterations desired.\n",
    "    \"\"\"\n",
    "    if i == 0:\n",
    "        # The first value x_0 attatched to i=0\n",
    "        print('Initial value: x_0 =', x_i)\n",
    "        return x_i\n",
    "    else:\n",
    "        # Reduce the iteration number progresively\n",
    "        i -= 1\n",
    "        \n",
    "        # Compute for the immediately previous value\n",
    "        x_I = Newton_Raphson(x_i, i)\n",
    "\n",
    "        # NR formula \n",
    "        x_II = x_I - (f(x_I) / df(x_I))\n",
    "\n",
    "        print(f'Iteration {i+1}  |  x_{i+1} = {x_II}')\n",
    "        return x_II\n",
    "\n",
    "Newton_Raphson(1, 10)"
   ]
  },
  {
   "cell_type": "code",
   "execution_count": 4,
   "metadata": {},
   "outputs": [
    {
     "name": "stdout",
     "output_type": "stream",
     "text": [
      "Initial value: x_0 = 0\n",
      "Iteration 1  |  x_1 = 0.42857142857142855\n",
      "Iteration 2  |  x_2 = 0.6857142857142857\n",
      "Iteration 3  |  x_3 = 0.8328654004954585\n",
      "Iteration 4  |  x_4 = 0.9133298932566344\n",
      "Iteration 5  |  x_5 = 0.955783292965739\n",
      "Iteration 6  |  x_6 = 0.9776551012729385\n",
      "Iteration 7  |  x_7 = 0.9887661675236611\n",
      "Iteration 8  |  x_8 = 0.9943674406865725\n",
      "Iteration 9  |  x_9 = 0.9971797713100611\n",
      "Iteration 10  |  x_10 = 1.000001982824608\n"
     ]
    },
    {
     "data": {
      "text/plain": [
       "1.000001982824608"
      ]
     },
     "execution_count": 4,
     "metadata": {},
     "output_type": "execute_result"
    }
   ],
   "source": [
    "# Symbol instance for the variable\n",
    "x = Symbol('x')\n",
    "\n",
    "func_str = '(x-3)*(x-1)*(x-1)'\n",
    "\n",
    "# The input function is converted to a SymPy expression\n",
    "func = sympify(func_str).expand()\n",
    "\n",
    "# Converted to a function\n",
    "f = lambdify(x, func)\n",
    "\n",
    "# compute the first derivate\n",
    "df = lambdify(x, func.diff(x))\n",
    "\n",
    "df2 = lambdify(x, func.diff(x,x))\n",
    "\n",
    "def Newton_Raphson_m(x_i, i):\n",
    "    \"\"\"## Newton Raphson Method\n",
    "    Using the formula for Newton-Rapshon recursion to compute \n",
    "    the roots of a real-valued continuous and differentiable \n",
    "    function, given an initial value.\n",
    "\n",
    "    ### Parametters\n",
    "    - x_i: Short for 'x initial'. The initial value for the recursion\n",
    "    to start with.\n",
    "\n",
    "    - i: The number of iterations desired.\n",
    "    \"\"\"\n",
    "    if i == 0:\n",
    "        # The first value x_0 attatched to i=0\n",
    "        print('Initial value: x_0 =', x_i)\n",
    "        return x_i\n",
    "    else:\n",
    "        i -= 1\n",
    "        x_I = Newton_Raphson(x_i, i)\n",
    "        x_II = x_I - (f(x_I)*df(x_I))/(df(x_I)**2 - f(x_I)*df2(x_I))\n",
    "\n",
    "        print(f'Iteration {i+1}  |  x_{i+1} = {x_II}')\n",
    "        return x_II\n",
    "\n",
    "Newton_Raphson_m(0, 10)"
   ]
  },
  {
   "cell_type": "markdown",
   "metadata": {},
   "source": [
    "There is some other aspects of the method that need to be included in the function. Those are goinng to be implemented in the finall packaged version of the system.\n",
    "\n",
    "### Plotting concept\n",
    "\n",
    "It seems interesting if the user is able to see how the method works (geometrically) to calculate the aproximation.\n",
    "\n",
    "That would require an extra effort. For now, let's just plot the function."
   ]
  },
  {
   "cell_type": "code",
   "execution_count": 15,
   "metadata": {},
   "outputs": [
    {
     "data": {
      "image/png": "[encoded data removed]",
      "text/plain": [
       "<Figure size 1000x600 with 1 Axes>"
      ]
     },
     "metadata": {},
     "output_type": "display_data"
    }
   ],
   "source": [
    "%matplotlib inline\n",
    "sns.set_style('ticks')\n",
    "# x**2 - 1 function\n",
    "\n",
    "x = np.linspace(-10,10,100)\n",
    "\n",
    "y = x**3 - 5*(x**2) + 8*x - 4\n",
    "\n",
    "# Plot\n",
    "fig, ax = plt.subplots(figsize=(10,6))\n",
    "ax.plot(x,y)\n",
    "\n",
    "# To get a \"text book\" look: relocate the spines of the figure\n",
    "ax.spines[[\"left\", \"bottom\"]].set_position('zero')\n",
    "ax.spines[[\"top\", \"right\"]].set_visible(False)\n",
    "\n",
    "ax.set_xticks(np.arange(-10,12,2)) # modify the xticks\n",
    "\n",
    "# setting the name of x and y axis\n",
    "ax.set_xlabel('x', loc='right', fontstyle='italic', fontsize='large')\n",
    "ax.set_ylabel('f(x)', loc='top', fontstyle='italic', fontsize='large', rotation='horizontal')\n",
    "ax.grid(True, which='both') # plotting a grid"
   ]
  }
 ],
 "metadata": {
  "kernelspec": {
   "display_name": "env",
   "language": "python",
   "name": "python3"
  },
  "language_info": {
   "codemirror_mode": {
    "name": "ipython",
    "version": 3
   },
   "file_extension": ".py",
   "mimetype": "text/x-python",
   "name": "python",
   "nbconvert_exporter": "python",
   "pygments_lexer": "ipython3",
   "version": "3.10.12"
  }
 },
 "nbformat": 4,
 "nbformat_minor": 2
}
